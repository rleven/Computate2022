{
 "cells": [
  {
   "cell_type": "code",
   "execution_count": 1,
   "id": "86b49a8a",
   "metadata": {},
   "outputs": [],
   "source": [
    "import numpy as np\n",
    "import matplotlib.pyplot as plt"
   ]
  },
  {
   "cell_type": "code",
   "execution_count": 2,
   "id": "2d4a5ea2",
   "metadata": {},
   "outputs": [],
   "source": [
    "def euler(x0,y0,x,h):\n",
    "    steps = (x-x0)/h\n",
    "    while(x0 <= x):\n",
    "        y = y0 -(h*y0)\n",
    "        y0 = y\n",
    "        x0 = x0+h\n",
    "    print(y)"
   ]
  },
  {
   "cell_type": "code",
   "execution_count": null,
   "id": "d0507969",
   "metadata": {},
   "outputs": [],
   "source": []
  },
  {
   "cell_type": "code",
   "execution_count": 4,
   "id": "52b97498",
   "metadata": {},
   "outputs": [
    {
     "name": "stdout",
     "output_type": "stream",
     "text": [
      "0.0046383976865881004\n"
     ]
    }
   ],
   "source": [
    "euler(0,1,5,0.1)"
   ]
  },
  {
   "cell_type": "code",
   "execution_count": 5,
   "id": "a70b05f3",
   "metadata": {},
   "outputs": [
    {
     "data": {
      "text/plain": [
       "0.006737946999085467"
      ]
     },
     "execution_count": 5,
     "metadata": {},
     "output_type": "execute_result"
    }
   ],
   "source": [
    "np.exp(-5)"
   ]
  },
  {
   "cell_type": "code",
   "execution_count": null,
   "id": "490aa72b",
   "metadata": {},
   "outputs": [],
   "source": []
  }
 ],
 "metadata": {
  "kernelspec": {
   "display_name": "Python 3 (ipykernel)",
   "language": "python",
   "name": "python3"
  },
  "language_info": {
   "codemirror_mode": {
    "name": "ipython",
    "version": 3
   },
   "file_extension": ".py",
   "mimetype": "text/x-python",
   "name": "python",
   "nbconvert_exporter": "python",
   "pygments_lexer": "ipython3",
   "version": "3.9.7"
  }
 },
 "nbformat": 4,
 "nbformat_minor": 5
}
